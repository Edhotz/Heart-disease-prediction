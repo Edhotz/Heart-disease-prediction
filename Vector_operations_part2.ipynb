{
 "cells": [
  {
   "cell_type": "code",
   "execution_count": 1,
   "metadata": {},
   "outputs": [],
   "source": [
    "import numpy as np"
   ]
  },
  {
   "cell_type": "code",
   "execution_count": 3,
   "metadata": {},
   "outputs": [
    {
     "name": "stdout",
     "output_type": "stream",
     "text": [
      "20\n"
     ]
    }
   ],
   "source": [
    "a = np.asarray([2, 3])\n",
    "\n",
    "b = np.asarray([4, 4])\n",
    "\n",
    "a_dot_b = np.dot(a, b) # 2*4 + 3*4 = 20 Multiplication\n",
    "\n",
    "print(a_dot_b)"
   ]
  },
  {
   "cell_type": "code",
   "execution_count": 5,
   "metadata": {},
   "outputs": [
    {
     "name": "stdout",
     "output_type": "stream",
     "text": [
      "4980\n"
     ]
    }
   ],
   "source": [
    "c = np.array([40, 20, 35])\n",
    "\n",
    "d = np.array([53, 24, 68])\n",
    "\n",
    "c_dot_d = np.dot(c, d)\n",
    "\n",
    "print(c_dot_d)"
   ]
  },
  {
   "cell_type": "markdown",
   "metadata": {},
   "source": [
    "Cross Product of 2 vectors\n"
   ]
  },
  {
   "cell_type": "code",
   "execution_count": 9,
   "metadata": {},
   "outputs": [
    {
     "name": "stdout",
     "output_type": "stream",
     "text": [
      "-4\n"
     ]
    }
   ],
   "source": [
    "a = np.asarray([2, 3])\n",
    "\n",
    "b = np.asarray([4, 4])\n",
    "\n",
    "a_cross_b = np.cross(a, b) # 2*4 - 3*4 = -2 Multiplication\n",
    "\n",
    "print(a_cross_b)\n"
   ]
  },
  {
   "cell_type": "code",
   "execution_count": 10,
   "metadata": {},
   "outputs": [],
   "source": [
    "c = np.array([5, 10, 20])"
   ]
  },
  {
   "cell_type": "code",
   "execution_count": 12,
   "metadata": {},
   "outputs": [
    {
     "name": "stdout",
     "output_type": "stream",
     "text": [
      "[-40 -40  40]\n"
     ]
    }
   ],
   "source": [
    "b = np.array([10, 20, 30])\n",
    "c = np.array([18, 32, 50])\n",
    "\n",
    "c_cross_b = np.cross(c, b)\n",
    "print(c_cross_b)"
   ]
  },
  {
   "cell_type": "code",
   "execution_count": 17,
   "metadata": {},
   "outputs": [
    {
     "name": "stdout",
     "output_type": "stream",
     "text": [
      "Projection of a on v =  [26.16949153 26.16949153 22.89830508]\n"
     ]
    }
   ],
   "source": [
    "# Projection of into two values of vector a and v\n",
    "a = np.array([22, 32, 21])\n",
    "v = np.array([24, 24, 21])\n",
    "\n",
    "# Magnitude of 'V' vector\n",
    "magnitude_of_v = np.sqrt(sum(v ** 2))\n",
    "\n",
    "proj_of_a_on_v = (np.dot(a, v) / magnitude_of_v ** 2) * v\n",
    "\n",
    "print(\"Projection of a on v = \", proj_of_a_on_v)"
   ]
  }
 ],
 "metadata": {
  "kernelspec": {
   "display_name": "Python 3",
   "language": "python",
   "name": "python3"
  },
  "language_info": {
   "codemirror_mode": {
    "name": "ipython",
    "version": 3
   },
   "file_extension": ".py",
   "mimetype": "text/x-python",
   "name": "python",
   "nbconvert_exporter": "python",
   "pygments_lexer": "ipython3",
   "version": "3.11.7"
  }
 },
 "nbformat": 4,
 "nbformat_minor": 2
}
